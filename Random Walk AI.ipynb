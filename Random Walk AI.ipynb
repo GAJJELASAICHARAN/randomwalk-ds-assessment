{
 "cells": [
  {
   "cell_type": "markdown",
   "id": "2e2b6b58",
   "metadata": {},
   "source": [
    "# NAME::GAJJELA SAI CHARAN"
   ]
  },
  {
   "cell_type": "markdown",
   "id": "d550befa",
   "metadata": {},
   "source": [
    "# REGISTER NO::40731025"
   ]
  },
  {
   "cell_type": "code",
   "execution_count": 1,
   "id": "d4f1ac76",
   "metadata": {},
   "outputs": [],
   "source": [
    "import numpy as np\n",
    "import pandas as pd\n",
    "import matplotlib.pyplot as plt"
   ]
  },
  {
   "cell_type": "code",
   "execution_count": 2,
   "id": "bdd66e12",
   "metadata": {},
   "outputs": [],
   "source": [
    "#to read the dataset\n",
    "df=pd.read_csv('books.csv')"
   ]
  },
  {
   "cell_type": "code",
   "execution_count": 3,
   "id": "fb4d3031",
   "metadata": {},
   "outputs": [
    {
     "data": {
      "text/html": [
       "<div>\n",
       "<style scoped>\n",
       "    .dataframe tbody tr th:only-of-type {\n",
       "        vertical-align: middle;\n",
       "    }\n",
       "\n",
       "    .dataframe tbody tr th {\n",
       "        vertical-align: top;\n",
       "    }\n",
       "\n",
       "    .dataframe thead th {\n",
       "        text-align: right;\n",
       "    }\n",
       "</style>\n",
       "<table border=\"1\" class=\"dataframe\">\n",
       "  <thead>\n",
       "    <tr style=\"text-align: right;\">\n",
       "      <th></th>\n",
       "      <th>book_id</th>\n",
       "      <th>goodreads_book_id</th>\n",
       "      <th>best_book_id</th>\n",
       "      <th>work_id</th>\n",
       "      <th>books_count</th>\n",
       "      <th>isbn13</th>\n",
       "      <th>original_publication_year</th>\n",
       "      <th>average_rating</th>\n",
       "      <th>ratings_count</th>\n",
       "      <th>work_ratings_count</th>\n",
       "      <th>work_text_reviews_count</th>\n",
       "      <th>ratings_1</th>\n",
       "      <th>ratings_2</th>\n",
       "      <th>ratings_3</th>\n",
       "      <th>ratings_4</th>\n",
       "      <th>ratings_5</th>\n",
       "      <th>NonEnglish</th>\n",
       "    </tr>\n",
       "  </thead>\n",
       "  <tbody>\n",
       "    <tr>\n",
       "      <th>count</th>\n",
       "      <td>399.000000</td>\n",
       "      <td>3.990000e+02</td>\n",
       "      <td>3.990000e+02</td>\n",
       "      <td>3.990000e+02</td>\n",
       "      <td>399.000000</td>\n",
       "      <td>3.890000e+02</td>\n",
       "      <td>399.000000</td>\n",
       "      <td>399.000000</td>\n",
       "      <td>3.990000e+02</td>\n",
       "      <td>3.990000e+02</td>\n",
       "      <td>399.000000</td>\n",
       "      <td>399.000000</td>\n",
       "      <td>399.000000</td>\n",
       "      <td>399.000000</td>\n",
       "      <td>399.000000</td>\n",
       "      <td>399.000000</td>\n",
       "      <td>399.0</td>\n",
       "    </tr>\n",
       "    <tr>\n",
       "      <th>mean</th>\n",
       "      <td>4629.112782</td>\n",
       "      <td>6.202994e+06</td>\n",
       "      <td>6.403616e+06</td>\n",
       "      <td>1.003106e+07</td>\n",
       "      <td>52.273183</td>\n",
       "      <td>9.780736e+12</td>\n",
       "      <td>1998.583960</td>\n",
       "      <td>3.983784</td>\n",
       "      <td>5.856697e+04</td>\n",
       "      <td>6.338527e+04</td>\n",
       "      <td>3602.338346</td>\n",
       "      <td>1654.025063</td>\n",
       "      <td>3349.325815</td>\n",
       "      <td>12326.313283</td>\n",
       "      <td>22040.551378</td>\n",
       "      <td>24015.055138</td>\n",
       "      <td>0.0</td>\n",
       "    </tr>\n",
       "    <tr>\n",
       "      <th>std</th>\n",
       "      <td>2888.079524</td>\n",
       "      <td>8.537331e+06</td>\n",
       "      <td>8.707742e+06</td>\n",
       "      <td>1.371054e+07</td>\n",
       "      <td>85.456787</td>\n",
       "      <td>5.929345e+08</td>\n",
       "      <td>24.656379</td>\n",
       "      <td>0.221447</td>\n",
       "      <td>1.451770e+05</td>\n",
       "      <td>1.504474e+05</td>\n",
       "      <td>5686.207540</td>\n",
       "      <td>5975.077674</td>\n",
       "      <td>9808.978148</td>\n",
       "      <td>28852.230403</td>\n",
       "      <td>49404.841679</td>\n",
       "      <td>61550.253387</td>\n",
       "      <td>0.0</td>\n",
       "    </tr>\n",
       "    <tr>\n",
       "      <th>min</th>\n",
       "      <td>15.000000</td>\n",
       "      <td>3.860000e+02</td>\n",
       "      <td>3.860000e+02</td>\n",
       "      <td>1.615000e+03</td>\n",
       "      <td>1.000000</td>\n",
       "      <td>9.780007e+12</td>\n",
       "      <td>1791.000000</td>\n",
       "      <td>3.130000</td>\n",
       "      <td>3.799000e+03</td>\n",
       "      <td>8.401000e+03</td>\n",
       "      <td>57.000000</td>\n",
       "      <td>36.000000</td>\n",
       "      <td>125.000000</td>\n",
       "      <td>797.000000</td>\n",
       "      <td>2312.000000</td>\n",
       "      <td>1676.000000</td>\n",
       "      <td>0.0</td>\n",
       "    </tr>\n",
       "    <tr>\n",
       "      <th>25%</th>\n",
       "      <td>2158.500000</td>\n",
       "      <td>4.472250e+04</td>\n",
       "      <td>4.705950e+04</td>\n",
       "      <td>9.427875e+05</td>\n",
       "      <td>20.000000</td>\n",
       "      <td>9.780316e+12</td>\n",
       "      <td>1997.000000</td>\n",
       "      <td>3.830000</td>\n",
       "      <td>1.264800e+04</td>\n",
       "      <td>1.425700e+04</td>\n",
       "      <td>1073.500000</td>\n",
       "      <td>247.000000</td>\n",
       "      <td>670.000000</td>\n",
       "      <td>2951.500000</td>\n",
       "      <td>5295.500000</td>\n",
       "      <td>5002.500000</td>\n",
       "      <td>0.0</td>\n",
       "    </tr>\n",
       "    <tr>\n",
       "      <th>50%</th>\n",
       "      <td>4536.000000</td>\n",
       "      <td>5.342550e+05</td>\n",
       "      <td>5.865160e+05</td>\n",
       "      <td>2.501119e+06</td>\n",
       "      <td>32.000000</td>\n",
       "      <td>9.780554e+12</td>\n",
       "      <td>2006.000000</td>\n",
       "      <td>4.000000</td>\n",
       "      <td>2.007500e+04</td>\n",
       "      <td>2.333000e+04</td>\n",
       "      <td>1849.000000</td>\n",
       "      <td>471.000000</td>\n",
       "      <td>1232.000000</td>\n",
       "      <td>4754.000000</td>\n",
       "      <td>8242.000000</td>\n",
       "      <td>8035.000000</td>\n",
       "      <td>0.0</td>\n",
       "    </tr>\n",
       "    <tr>\n",
       "      <th>75%</th>\n",
       "      <td>7187.500000</td>\n",
       "      <td>1.139371e+07</td>\n",
       "      <td>1.184219e+07</td>\n",
       "      <td>1.632323e+07</td>\n",
       "      <td>55.000000</td>\n",
       "      <td>9.781250e+12</td>\n",
       "      <td>2011.000000</td>\n",
       "      <td>4.140000</td>\n",
       "      <td>4.478050e+04</td>\n",
       "      <td>4.723050e+04</td>\n",
       "      <td>3592.500000</td>\n",
       "      <td>1077.500000</td>\n",
       "      <td>2343.500000</td>\n",
       "      <td>9444.500000</td>\n",
       "      <td>17247.500000</td>\n",
       "      <td>17425.000000</td>\n",
       "      <td>0.0</td>\n",
       "    </tr>\n",
       "    <tr>\n",
       "      <th>max</th>\n",
       "      <td>9968.000000</td>\n",
       "      <td>3.184552e+07</td>\n",
       "      <td>3.184552e+07</td>\n",
       "      <td>5.072324e+07</td>\n",
       "      <td>834.000000</td>\n",
       "      <td>9.784770e+12</td>\n",
       "      <td>2016.000000</td>\n",
       "      <td>4.530000</td>\n",
       "      <td>1.972666e+06</td>\n",
       "      <td>2.024493e+06</td>\n",
       "      <td>49714.000000</td>\n",
       "      <td>100373.000000</td>\n",
       "      <td>149549.000000</td>\n",
       "      <td>355756.000000</td>\n",
       "      <td>656870.000000</td>\n",
       "      <td>875372.000000</td>\n",
       "      <td>0.0</td>\n",
       "    </tr>\n",
       "  </tbody>\n",
       "</table>\n",
       "</div>"
      ],
      "text/plain": [
       "           book_id  goodreads_book_id  best_book_id       work_id  \\\n",
       "count   399.000000       3.990000e+02  3.990000e+02  3.990000e+02   \n",
       "mean   4629.112782       6.202994e+06  6.403616e+06  1.003106e+07   \n",
       "std    2888.079524       8.537331e+06  8.707742e+06  1.371054e+07   \n",
       "min      15.000000       3.860000e+02  3.860000e+02  1.615000e+03   \n",
       "25%    2158.500000       4.472250e+04  4.705950e+04  9.427875e+05   \n",
       "50%    4536.000000       5.342550e+05  5.865160e+05  2.501119e+06   \n",
       "75%    7187.500000       1.139371e+07  1.184219e+07  1.632323e+07   \n",
       "max    9968.000000       3.184552e+07  3.184552e+07  5.072324e+07   \n",
       "\n",
       "       books_count        isbn13  original_publication_year  average_rating  \\\n",
       "count   399.000000  3.890000e+02                 399.000000      399.000000   \n",
       "mean     52.273183  9.780736e+12                1998.583960        3.983784   \n",
       "std      85.456787  5.929345e+08                  24.656379        0.221447   \n",
       "min       1.000000  9.780007e+12                1791.000000        3.130000   \n",
       "25%      20.000000  9.780316e+12                1997.000000        3.830000   \n",
       "50%      32.000000  9.780554e+12                2006.000000        4.000000   \n",
       "75%      55.000000  9.781250e+12                2011.000000        4.140000   \n",
       "max     834.000000  9.784770e+12                2016.000000        4.530000   \n",
       "\n",
       "       ratings_count  work_ratings_count  work_text_reviews_count  \\\n",
       "count   3.990000e+02        3.990000e+02               399.000000   \n",
       "mean    5.856697e+04        6.338527e+04              3602.338346   \n",
       "std     1.451770e+05        1.504474e+05              5686.207540   \n",
       "min     3.799000e+03        8.401000e+03                57.000000   \n",
       "25%     1.264800e+04        1.425700e+04              1073.500000   \n",
       "50%     2.007500e+04        2.333000e+04              1849.000000   \n",
       "75%     4.478050e+04        4.723050e+04              3592.500000   \n",
       "max     1.972666e+06        2.024493e+06             49714.000000   \n",
       "\n",
       "           ratings_1      ratings_2      ratings_3      ratings_4  \\\n",
       "count     399.000000     399.000000     399.000000     399.000000   \n",
       "mean     1654.025063    3349.325815   12326.313283   22040.551378   \n",
       "std      5975.077674    9808.978148   28852.230403   49404.841679   \n",
       "min        36.000000     125.000000     797.000000    2312.000000   \n",
       "25%       247.000000     670.000000    2951.500000    5295.500000   \n",
       "50%       471.000000    1232.000000    4754.000000    8242.000000   \n",
       "75%      1077.500000    2343.500000    9444.500000   17247.500000   \n",
       "max    100373.000000  149549.000000  355756.000000  656870.000000   \n",
       "\n",
       "           ratings_5  NonEnglish  \n",
       "count     399.000000       399.0  \n",
       "mean    24015.055138         0.0  \n",
       "std     61550.253387         0.0  \n",
       "min      1676.000000         0.0  \n",
       "25%      5002.500000         0.0  \n",
       "50%      8035.000000         0.0  \n",
       "75%     17425.000000         0.0  \n",
       "max    875372.000000         0.0  "
      ]
     },
     "execution_count": 3,
     "metadata": {},
     "output_type": "execute_result"
    }
   ],
   "source": [
    "#for describing the dataset\n",
    "df.describe()"
   ]
  },
  {
   "cell_type": "markdown",
   "id": "48bd49ad",
   "metadata": {},
   "source": [
    "# Q1: How many rows and columns are there in books.csv dataset? "
   ]
  },
  {
   "cell_type": "code",
   "execution_count": 4,
   "id": "aa2d96c4",
   "metadata": {},
   "outputs": [
    {
     "data": {
      "text/plain": [
       "(399, 24)"
      ]
     },
     "execution_count": 4,
     "metadata": {},
     "output_type": "execute_result"
    }
   ],
   "source": [
    "df.shape"
   ]
  },
  {
   "cell_type": "code",
   "execution_count": 5,
   "id": "57e19445",
   "metadata": {},
   "outputs": [
    {
     "name": "stdout",
     "output_type": "stream",
     "text": [
      "No.of rows = 399\n",
      "No.of columns = 24\n"
     ]
    }
   ],
   "source": [
    "row = df.shape[0]\n",
    "columns = df.shape[1]\n",
    "print(\"No.of rows =\",row)\n",
    "print(\"No.of columns =\",columns)"
   ]
  },
  {
   "cell_type": "markdown",
   "id": "c2f7af32",
   "metadata": {},
   "source": [
    "# Q2: How many books do not have an original title?"
   ]
  },
  {
   "cell_type": "code",
   "execution_count": 6,
   "id": "131a6c99",
   "metadata": {},
   "outputs": [
    {
     "name": "stdout",
     "output_type": "stream",
     "text": [
      "Books do not have original title: 36\n"
     ]
    }
   ],
   "source": [
    "N = df['original_title'].isnull().sum()\n",
    "print(\"Books do not have original title:\",N)"
   ]
  },
  {
   "cell_type": "markdown",
   "id": "0f8b30fc",
   "metadata": {},
   "source": [
    "# Q3: How many unique books are present in the dataset ? Evaluate based on the 'book_id' after removing null values in the original_title column."
   ]
  },
  {
   "cell_type": "code",
   "execution_count": 7,
   "id": "7f48d837",
   "metadata": {},
   "outputs": [],
   "source": [
    "df.dropna(subset=[\"original_title\"],inplace=True)"
   ]
  },
  {
   "cell_type": "code",
   "execution_count": 8,
   "id": "20567df7",
   "metadata": {},
   "outputs": [
    {
     "name": "stdout",
     "output_type": "stream",
     "text": [
      "Number of unique books: 363\n"
     ]
    }
   ],
   "source": [
    "N=df['book_id'].unique().size\n",
    "print(\"Number of unique books:\",N)"
   ]
  },
  {
   "cell_type": "markdown",
   "id": "0273c97b",
   "metadata": {},
   "source": [
    "# Q4: What is the average rating of all the books in the dataset based on ‘average_rating’?"
   ]
  },
  {
   "cell_type": "code",
   "execution_count": 9,
   "id": "4912b5ca",
   "metadata": {},
   "outputs": [
    {
     "name": "stdout",
     "output_type": "stream",
     "text": [
      "Average rating of all books\n",
      "3.9870798898071644\n"
     ]
    }
   ],
   "source": [
    "print(\"Average rating of all books\")\n",
    "print(df['average_rating'].mean())"
   ]
  },
  {
   "cell_type": "markdown",
   "id": "8af14be8",
   "metadata": {},
   "source": [
    "# Q5: Find the number of books published in the year ‘2000’ based on the ‘original_publication_year’."
   ]
  },
  {
   "cell_type": "code",
   "execution_count": 10,
   "id": "4a43fdd9",
   "metadata": {},
   "outputs": [
    {
     "name": "stdout",
     "output_type": "stream",
     "text": [
      "Number of books published in the year 2000: 7\n"
     ]
    }
   ],
   "source": [
    "#filter the dataset for books published in 2000\n",
    "books_published_in_2000 = df[df['original_publication_year'] == 2000]\n",
    "#to get the count of books published in 2000\n",
    "num_books_published_in_2000 = len(books_published_in_2000)\n",
    "\n",
    "print(\"Number of books published in the year 2000:\",num_books_published_in_2000)"
   ]
  },
  {
   "cell_type": "markdown",
   "id": "d9f66552",
   "metadata": {},
   "source": [
    "# Q6: Which book (title) has the maximum number of ratings based on ‘work_ratings_count’."
   ]
  },
  {
   "cell_type": "code",
   "execution_count": 11,
   "id": "36cffc87",
   "metadata": {},
   "outputs": [
    {
     "name": "stdout",
     "output_type": "stream",
     "text": [
      "Book with the maximum number of ratings: The Diary of a Young Girl\n"
     ]
    }
   ],
   "source": [
    "#to find max number of ratings\n",
    "max_ratings_book = df[df['work_ratings_count'] == df['work_ratings_count'].max()]\n",
    "\n",
    "max_ratings_title = max_ratings_book['title'].values[0]\n",
    "\n",
    "print(\"Book with the maximum number of ratings:\",max_ratings_title)"
   ]
  },
  {
   "cell_type": "markdown",
   "id": "088f1d11",
   "metadata": {},
   "source": [
    "# Q7: Bucket the average_rating of books into 11 buckets [0, 0.5, 1.0, 1.5, 2.0, 2.5, 3.0, 3.5, 4.0, 4.5, 5.0] with 0.5 decimal rounding (eg: average_rating 3.0 to 3.49 will fall in bucket 3.0). Plot bar graph to show total number of books in each rating bucket."
   ]
  },
  {
   "cell_type": "code",
   "execution_count": 12,
   "id": "f98145f4",
   "metadata": {},
   "outputs": [
    {
     "data": {
      "image/png": "[encoded data removed]",
      "text/plain": [
       "<Figure size 640x480 with 1 Axes>"
      ]
     },
     "metadata": {},
     "output_type": "display_data"
    }
   ],
   "source": [
    "rating_bins = [0,0.5,1.0,1.5,2.0,2.5,3.0,3.5,4.0,4.5,5.0]\n",
    "\n",
    "df['rating_bucket'] = pd.cut(df['average_rating'], bins=rating_bins,right=False)\n",
    "\n",
    "rating_counts = df['rating_bucket'].value_counts().sort_index()\n",
    "#for plotting the bar graph\n",
    "plt.bar(rating_counts.index.astype(str), rating_counts.values, color='blue')\n",
    "plt.xlabel('Rating Buckets')\n",
    "plt.ylabel('Number of Books')\n",
    "plt.xticks(rotation='vertical')\n",
    "plt.title('Number of Books in each Rating Bucket')\n",
    "plt.show()"
   ]
  },
  {
   "cell_type": "code",
   "execution_count": null,
   "id": "0964dd4d",
   "metadata": {},
   "outputs": [],
   "source": []
  }
 ],
 "metadata": {
  "kernelspec": {
   "display_name": "Python 3 (ipykernel)",
   "language": "python",
   "name": "python3"
  },
  "language_info": {
   "codemirror_mode": {
    "name": "ipython",
    "version": 3
   },
   "file_extension": ".py",
   "mimetype": "text/x-python",
   "name": "python",
   "nbconvert_exporter": "python",
   "pygments_lexer": "ipython3",
   "version": "3.9.13"
  }
 },
 "nbformat": 4,
 "nbformat_minor": 5
}
